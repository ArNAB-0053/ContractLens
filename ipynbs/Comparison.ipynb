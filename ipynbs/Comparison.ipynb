{
 "cells": [
  {
   "cell_type": "code",
   "execution_count": null,
   "metadata": {},
   "outputs": [
    {
     "ename": "",
     "evalue": "",
     "output_type": "error",
     "traceback": [
      "\u001b[1;31mRunning cells with 'Python 3.12.4' requires the ipykernel package.\n",
      "\u001b[1;31mRun the following command to install 'ipykernel' into the Python environment. \n",
      "\u001b[1;31mCommand: 'c:/Users/arnab/AppData/Local/Programs/Python/Python312/python.exe -m pip install ipykernel -U --user --force-reinstall'"
     ]
    }
   ],
   "source": [
    "import fitz  # PyMuPDF for PDF text extraction\n",
    "import joblib  # for loading the trained model and vectorizer\n",
    "from sklearn.feature_extraction.text import TfidfVectorizer  # TF-IDF Vectorizer\n",
    "import nltk  # Natural Language Toolkit for stopwords\n",
    "from nltk.corpus import stopwords\n",
    "import spacy  # spaCy for text processing\n",
    "import re  # Regular expressions for text cleaning\n",
    "from sklearn.metrics.pairwise import cosine_similarity  # Cosine similarity for semantic comparison"
   ]
  },
  {
   "cell_type": "code",
   "execution_count": 4,
   "metadata": {},
   "outputs": [
    {
     "name": "stderr",
     "output_type": "stream",
     "text": [
      "c:\\Users\\arnab\\anaconda3\\Lib\\site-packages\\sklearn\\base.py:376: InconsistentVersionWarning: Trying to unpickle estimator TfidfTransformer from version 1.4.1.post1 when using version 1.5.1. This might lead to breaking code or invalid results. Use at your own risk. For more info please refer to:\n",
      "https://scikit-learn.org/stable/model_persistence.html#security-maintainability-limitations\n",
      "  warnings.warn(\n",
      "c:\\Users\\arnab\\anaconda3\\Lib\\site-packages\\sklearn\\base.py:376: InconsistentVersionWarning: Trying to unpickle estimator TfidfVectorizer from version 1.4.1.post1 when using version 1.5.1. This might lead to breaking code or invalid results. Use at your own risk. For more info please refer to:\n",
      "https://scikit-learn.org/stable/model_persistence.html#security-maintainability-limitations\n",
      "  warnings.warn(\n"
     ]
    }
   ],
   "source": [
    "# Load the trained model and the TF-IDF vectorizer from disk\n",
    "model = joblib.load('ensemble_model.pkl')\n",
    "vectorizer = joblib.load('ensemble_model_tfidf_vectorizer.pkl')"
   ]
  },
  {
   "cell_type": "code",
   "execution_count": 5,
   "metadata": {},
   "outputs": [],
   "source": [
    "# Load spaCy model for English\n",
    "nlp = spacy.load(\"en_core_web_sm\")"
   ]
  },
  {
   "cell_type": "code",
   "execution_count": 6,
   "metadata": {},
   "outputs": [
    {
     "name": "stderr",
     "output_type": "stream",
     "text": [
      "[nltk_data] Downloading package stopwords to\n",
      "[nltk_data]     C:\\Users\\arnab\\AppData\\Roaming\\nltk_data...\n",
      "[nltk_data]   Package stopwords is already up-to-date!\n"
     ]
    }
   ],
   "source": [
    "# Download stopwords from nltk if not already downloaded\n",
    "nltk.download('stopwords')\n",
    "stop_words = set(stopwords.words('english'))"
   ]
  },
  {
   "cell_type": "code",
   "execution_count": 7,
   "metadata": {},
   "outputs": [],
   "source": [
    "# Function to extract text from a PDF file\n",
    "def extract_text_from_pdf(pdf_path):\n",
    "    doc = fitz.open(pdf_path)\n",
    "    text = \"\"\n",
    "    for page_num in range(len(doc)):\n",
    "        page = doc.load_page(page_num)\n",
    "        text += page.get_text(\"text\")\n",
    "    return text"
   ]
  },
  {
   "cell_type": "code",
   "execution_count": 8,
   "metadata": {},
   "outputs": [],
   "source": [
    "# Function to split text into paragraphs\n",
    "def split_text_into_paragraphs(text):\n",
    "    paragraphs = re.split(r'\\n\\d+\\.\\s\\xa0|\\n\\xa0', text)\n",
    "    paragraphs = [para.strip() for para in paragraphs if para.strip()]\n",
    "    return paragraphs"
   ]
  },
  {
   "cell_type": "code",
   "execution_count": 9,
   "metadata": {},
   "outputs": [],
   "source": [
    "# Function to clean and preprocess text\n",
    "def clean_text(text):\n",
    "    # Lowercase\n",
    "    text = text.lower()\n",
    "    # Remove punctuation\n",
    "    text = re.sub(r'[^\\w\\s]', '', text)\n",
    "    # Remove extra whitespace\n",
    "    text = re.sub(r'\\s+', ' ', text)\n",
    "    # Remove stopwords\n",
    "    text = \" \".join([word for word in text.split() if word not in stop_words])\n",
    "    # Lemmatization using spaCy\n",
    "    doc = nlp(text)\n",
    "    text = \" \".join([token.lemma_ for token in doc])\n",
    "    return text"
   ]
  },
  {
   "cell_type": "code",
   "execution_count": 10,
   "metadata": {},
   "outputs": [],
   "source": [
    "# Function to annotate paragraphs with predicted clause types\n",
    "def annotate_paragraphs(paragraphs):\n",
    "    annotated_paragraphs = []\n",
    "    for paragraph in paragraphs:\n",
    "        cleaned_paragraph = clean_text(paragraph)\n",
    "        paragraph_vector = vectorizer.transform([cleaned_paragraph])\n",
    "        clause_type = model.predict(paragraph_vector)\n",
    "        annotated_paragraphs.append((paragraph, clause_type[0]))\n",
    "    return annotated_paragraphs"
   ]
  },
  {
   "cell_type": "code",
   "execution_count": 11,
   "metadata": {},
   "outputs": [],
   "source": [
    "# Paths to your PDF files for both contracts\n",
    "pdf_path_first_contract = 'Contract1.pdf'\n",
    "pdf_path_second_contract = 'Contract2.pdf'"
   ]
  },
  {
   "cell_type": "code",
   "execution_count": 12,
   "metadata": {},
   "outputs": [],
   "source": [
    "# Extract text from the first contract\n",
    "first_contract_text = extract_text_from_pdf(pdf_path_first_contract)\n",
    "\n",
    "# Split text into paragraphs for the first contract\n",
    "first_contract_paragraphs = split_text_into_paragraphs(first_contract_text)\n",
    "\n",
    "# Annotate paragraphs with predicted clause types for the first contract\n",
    "annotated_first_contract_paragraphs = annotate_paragraphs(first_contract_paragraphs)"
   ]
  },
  {
   "cell_type": "code",
   "execution_count": 13,
   "metadata": {},
   "outputs": [],
   "source": [
    "# Extract text from the second contract\n",
    "second_contract_text = extract_text_from_pdf(pdf_path_second_contract)\n",
    "\n",
    "# Split text into paragraphs for the second contract\n",
    "second_contract_paragraphs = split_text_into_paragraphs(second_contract_text)\n",
    "\n",
    "# Annotate paragraphs with predicted clause types for the second contract\n",
    "annotated_second_contract_paragraphs = annotate_paragraphs(second_contract_paragraphs)"
   ]
  },
  {
   "cell_type": "code",
   "execution_count": 14,
   "metadata": {},
   "outputs": [
    {
     "name": "stdout",
     "output_type": "stream",
     "text": [
      "Annotated Paragraphs for the First Contract:\n",
      "Paragraph 1:\n",
      "Text: First Amendment to Restricted Stock Unit\n",
      "Agreement (Strategic Growth PSUs) between\n",
      "Intel and Patrick Gelsinger, dated November 18,\n",
      "2022\n",
      "Contract Categories: Business Finance - Stock Agreements\n",
      "EX-10.2 3 d310344dex102.htm EX-10.2 EX-10.2\n",
      "Exhibit 10.2\n",
      "Strategic Growth PSUs\n",
      "INTEL CORPORATION\n",
      "2021 INDUCEMENT PLAN\n",
      "FIRST AMENDMENT TO\n",
      "RESTRICTED STOCK UNIT AGREEMENT\n",
      "(for Performance-Based Restricted Stock Units (or “PSUs”))\n",
      "This First Amendment (this “Amendment”) to the Restricted Stock Unit Agreement by and between\n",
      "Patrick Gelsinger (“you”) and Intel Corporation (the “Corporation”), which provided for the grant of 457,789\n",
      "PSUs, effective as of February  15, 2021 (the “Strategic Growth PSU Award Agreement”), is made by and\n",
      "between you and the Corporation, effective as of November  18, 2022 (the “Amendment Effective Date”).\n",
      "Capitalized terms contained herein but not defined herein shall have the meanings ascribed to them in the 2021\n",
      "Inducement Plan or the Strategic Growth PSU Award Agreement, as the case may be.\n",
      "WHEREAS, you were granted RSUs pursuant to the terms of the Strategic Growth PSU Award\n",
      "Agreement; and\n",
      "WHEREAS, you and the Corporation have agreed to amend and modify certain terms of the Strategic\n",
      "Growth PSU Award Agreement as provided herein, with the understanding that all other provisions of the Strategic\n",
      "Growth PSU Award Agreement shall remain unchanged.\n",
      "NOW, THEREFORE, in consideration of the mutual covenants and promises contained herein and\n",
      "for good and valuable consideration, the receipt of which is hereby acknowledged, the parties hereto, each\n",
      "intending to be legally bound hereby, agree to amend the Strategic Growth PSU Award Agreement, effective as of\n",
      "the Amendment Effective Date, as follows:\n",
      "Predicted Clause Type: agreement\n",
      "\n",
      "Paragraph 2:\n",
      "Text: Removal of Interim Vesting Date; Change to Cliff-Vesting.\n",
      "Predicted Clause Type: vesting\n",
      "\n",
      "Paragraph 3:\n",
      "Text: (a) Section 4(a) of the Strategic Growth PSU Award Agreement is hereby amended by deleting the\n",
      "following language: “; provided, that on the date that is thirty-six (36) months following the\n",
      "Grant Date (the “Interim Vesting Date”), a number of RSUs equal to (i)  the number of\n",
      "RSUs that have met the Performance Hurdle Terms as of such date, multiplied by (ii)  fifty\n",
      "percent (50%) will vest subject to your continued employment through such Interim Vesting\n",
      "Date and be settled in accordance with Section 5 below”.\n",
      "Predicted Clause Type: vesting\n",
      "\n",
      "Paragraph 4:\n",
      "Text: (b) Section 4(b)(ii) of the Strategic Growth PSU Award Agreement is hereby amended by deleting\n",
      "the following language: “The number of RSUs that vest and become payable on the Final\n",
      "Vesting Date based on achievement of the Performance Hurdle Terms will be reduced by any\n",
      "RSUs that became vested on the Interim Vesting Date and settled pursuant to Section 5 of this\n",
      "Agreement.”\n",
      "Predicted Clause Type: vesting\n",
      "\n",
      "Paragraph 5:\n",
      "Text: (c)\n",
      "Section 4(c) of the Strategic Growth PSU Award Agreement is hereby amended by deleting the\n",
      "following language: “(inclusive of any RSUs that previously settled in connection with the\n",
      "Interim Vesting Date)”.\n",
      "Predicted Clause Type: agreement\n",
      "\n",
      "Paragraph 6:\n",
      "Text: Increase to Trading Price Period.\n",
      "Predicted Clause Type: purchase-price\n",
      "\n",
      "Paragraph 7:\n",
      "Text: (a) Section 4(b)(i) of the Strategic Growth PSU Award Agreement is hereby amended by replacing\n",
      "“for any consecutive thirty (30) trading days” with “for any consecutive ninety (90) calendar\n",
      "days” as the definition of Trading Price Period.\n",
      "Predicted Clause Type: agreement\n",
      "\n",
      "Paragraph 8:\n",
      "Text: (b) Section 4(c) of the Strategic Growth PSU Award Agreement is hereby amended by replacing\n",
      "“consecutive thirty (30) trading days” with “consecutive ninety (90) calendar days”.\n",
      "Predicted Clause Type: agreement\n",
      "\n",
      "Paragraph 9:\n",
      "Text: Miscellaneous. The Strategic Growth PSU Award Agreement shall remain unchanged and in full force\n",
      "and effect other than as provided in this Amendment. This Amendment shall be governed by and construed in\n",
      "accordance with the laws of the State of Delaware (without regard to conflicts of law).\n",
      "Predicted Clause Type: miscellaneous\n",
      "\n",
      "Paragraph 10:\n",
      "Text: Counterparts. This Amendment may be executed in counterparts, each one of which shall be deemed\n",
      "an original and all of which together shall constitute one and the same Amendment.\n",
      "[Signature Page Follows]\n",
      "IN WITNESS WHEREOF, the parties hereto have caused this Amendment to be duly executed and\n",
      "effective as of the Amendment Effective Date.\n",
      "Predicted Clause Type: amendments\n",
      "\n",
      "Paragraph 11:\n",
      "Text: INTEL CORPORATION\n",
      "Predicted Clause Type: other-agreements\n",
      "\n",
      "Paragraph 12:\n",
      "Text: /s/ Dion Weisler\n",
      "By:   Dion Weisler\n",
      "Predicted Clause Type: other\n",
      "\n",
      "Paragraph 13:\n",
      "Text: Chair, Compensation Committee\n",
      "Predicted Clause Type: compensation\n",
      "\n",
      "Paragraph 14:\n",
      "Text: Acknowledged and Agreed to by:\n",
      "Predicted Clause Type: agreements\n",
      "\n",
      "Paragraph 15:\n",
      "Text: /s/ Patrick Gelsinger\n",
      "Predicted Clause Type: other\n",
      "\n",
      "Paragraph 16:\n",
      "Text: Patrick Gelsinger\n",
      "Predicted Clause Type: other\n",
      "\n",
      "Paragraph 17:\n",
      "Text: November 18, 2022\n",
      "Predicted Clause Type: r-e-c-i-t-a-l-s\n",
      "\n",
      "Paragraph 18:\n",
      "Text: Date\n",
      "Predicted Clause Type: closing-date\n",
      "\n"
     ]
    }
   ],
   "source": [
    "# Print the annotated paragraphs for both contracts\n",
    "print(\"Annotated Paragraphs for the First Contract:\")\n",
    "for idx, (text, clause_type) in enumerate(annotated_first_contract_paragraphs, 1):\n",
    "    print(f\"Paragraph {idx}:\")\n",
    "    print(f\"Text: {text}\")\n",
    "    print(f\"Predicted Clause Type: {clause_type}\")\n",
    "    print()"
   ]
  },
  {
   "cell_type": "code",
   "execution_count": 15,
   "metadata": {},
   "outputs": [
    {
     "name": "stdout",
     "output_type": "stream",
     "text": [
      "Annotated Paragraphs for the Second Contract:\n",
      "Paragraph 1:\n",
      "Text: First Amendment to Restricted Stock Unit\n",
      "Agreement (Outperformance PSUs) between\n",
      "Intel and Patrick Gelsinger, dated November 18,\n",
      "2022\n",
      "Contract Categories: Business Finance - Stock Agreements\n",
      "EX-10.3 4 d310344dex103.htm EX-10.3 EX-10.3\n",
      "Exhibit 10.3\n",
      "Outperformance PSUs\n",
      "INTEL CORPORATION\n",
      "2021 INDUCEMENT PLAN\n",
      "FIRST AMENDMENT TO\n",
      "RESTRICTED STOCK UNIT AGREEMENT\n",
      "(for Performance-Based Restricted Stock Units (or “PSUs”))\n",
      "This First Amendment (this “Amendment”) to the Restricted Stock Unit Agreement by and between\n",
      "Patrick Gelsinger (“you”) and Intel Corporation (the “Corporation”), which provided for the grant of 3,275,199\n",
      "PSUs, effective as of February  15, 2021 (the “Outperformance PSU Award Agreement”), is made by and\n",
      "between you and the Corporation, effective as of November  18, 2022 (the “Amendment Effective Date”).\n",
      "Capitalized terms contained herein but not defined herein shall have the meanings ascribed to them in the 2021\n",
      "Inducement Plan or the Outperformance PSU Award Agreement, as the case may be.\n",
      "WHEREAS, you were granted RSUs pursuant to the terms of the Outperformance PSU Award\n",
      "Agreement; and\n",
      "WHEREAS, you and the Corporation have agreed to amend and modify certain terms of the\n",
      "Outperformance PSU Award Agreement as provided herein, with the understanding that all other provisions of the\n",
      "Outperformance PSU Award Agreement shall remain unchanged.\n",
      "NOW, THEREFORE, in consideration of the mutual covenants and promises contained herein and\n",
      "for good and valuable consideration, the receipt of which is hereby acknowledged, the parties hereto, each\n",
      "intending to be legally bound hereby, agree to amend the Outperformance PSU Award Agreement, effective as of\n",
      "the Amendment Effective Date, as follows:\n",
      "Predicted Clause Type: agreement\n",
      "\n",
      "Paragraph 2:\n",
      "Text: Removal of Interim Vesting Date; Change to Cliff-Vesting.\n",
      "Predicted Clause Type: vesting\n",
      "\n",
      "Paragraph 3:\n",
      "Text: (a) Section 4(a) of the Outperformance PSU Award Agreement is hereby amended by deleting the\n",
      "following language: “; provided, that on the date that is thirty-six (36) months following the\n",
      "Grant Date (the “Interim Vesting Date”), fifty percent (50%) of the RSUs will vest subject to\n",
      "your continued employment through such Interim Vesting Date and be settled in accordance\n",
      "with Section 5 below if the Performance Hurdle has been met as of the Interim Vesting Date”.\n",
      "Predicted Clause Type: vesting\n",
      "\n",
      "Paragraph 4:\n",
      "Text: (b) Section 4(b)(ii) of the Outperformance PSU Award Agreement is hereby deleted in its entirety\n",
      "and replaced it with the words “Intentionally Omitted.”\n",
      "Predicted Clause Type: agreement\n",
      "\n",
      "Paragraph 5:\n",
      "Text: Increase to Performance Hurdle Measurement Period.\n",
      "Predicted Clause Type: performance\n",
      "\n",
      "Paragraph 6:\n",
      "Text: (a) Section 4(b)(i) of the Outperformance PSU Award Agreement is hereby amended by replacing\n",
      "“any consecutive thirty (30)  trading days concluding on or prior to the Final Vesting Date”\n",
      "with “any consecutive ninety (90) calendar days concluding on or prior to the Final Vesting\n",
      "Date”.\n",
      "Predicted Clause Type: vesting\n",
      "\n",
      "Paragraph 7:\n",
      "Text: Miscellaneous. The Outperformance PSU Award Agreement shall remain unchanged and in full force\n",
      "and effect other than as provided in this Amendment. This Amendment shall be governed by and construed in\n",
      "accordance with the laws of the State of Delaware (without regard to conflicts of law).\n",
      "Predicted Clause Type: miscellaneous\n",
      "\n",
      "Paragraph 8:\n",
      "Text: Counterparts. This Amendment may be executed in counterparts, each one of which shall be deemed\n",
      "an original and all of which together shall constitute one and the same Amendment.\n",
      "[Signature Page Follows]\n",
      "IN WITNESS WHEREOF, the parties hereto have caused this Amendment to be duly executed and\n",
      "effective as of the Amendment Effective Date.\n",
      "Predicted Clause Type: amendments\n",
      "\n",
      "Paragraph 9:\n",
      "Text: INTEL CORPORATION\n",
      "Predicted Clause Type: other-agreements\n",
      "\n",
      "Paragraph 10:\n",
      "Text: /s/ Dion Weisler\n",
      "Predicted Clause Type: other\n",
      "\n",
      "Paragraph 11:\n",
      "Text: By:   Dion Weisler\n",
      "Predicted Clause Type: other\n",
      "\n",
      "Paragraph 12:\n",
      "Text: Chair, Compensation Committee\n",
      "Predicted Clause Type: compensation\n",
      "\n",
      "Paragraph 13:\n",
      "Text: Acknowledged and Agreed to by:\n",
      "Predicted Clause Type: agreements\n",
      "\n",
      "Paragraph 14:\n",
      "Text: /s/ Patrick Gelsinger\n",
      "Predicted Clause Type: other\n",
      "\n",
      "Paragraph 15:\n",
      "Text: Patrick Gelsinger\n",
      "Predicted Clause Type: other\n",
      "\n",
      "Paragraph 16:\n",
      "Text: November 18, 2022\n",
      "Predicted Clause Type: r-e-c-i-t-a-l-s\n",
      "\n",
      "Paragraph 17:\n",
      "Text: Date\n",
      "Predicted Clause Type: closing-date\n",
      "\n"
     ]
    }
   ],
   "source": [
    "print(\"Annotated Paragraphs for the Second Contract:\")\n",
    "for idx, (text, clause_type) in enumerate(annotated_second_contract_paragraphs, 1):\n",
    "    print(f\"Paragraph {idx}:\")\n",
    "    print(f\"Text: {text}\")\n",
    "    print(f\"Predicted Clause Type: {clause_type}\")\n",
    "    print()"
   ]
  },
  {
   "cell_type": "code",
   "execution_count": 16,
   "metadata": {},
   "outputs": [],
   "source": [
    "# Function to calculate cosine similarity between two texts\n",
    "def calculate_similarity(text1, text2):\n",
    "    cleaned_text1 = clean_text(text1)\n",
    "    cleaned_text2 = clean_text(text2)\n",
    "    vector1 = vectorizer.transform([cleaned_text1])\n",
    "    vector2 = vectorizer.transform([cleaned_text2])\n",
    "    similarity = cosine_similarity(vector1, vector2)[0][0]\n",
    "    return similarity"
   ]
  },
  {
   "cell_type": "code",
   "execution_count": 17,
   "metadata": {},
   "outputs": [],
   "source": [
    "# Perform semantic comparison between paragraphs from both contracts\n",
    "similar_paragraphs = []\n",
    "for idx1, (text1, _) in enumerate(annotated_first_contract_paragraphs):\n",
    "    for idx2, (text2, _) in enumerate(annotated_second_contract_paragraphs):\n",
    "        similarity = calculate_similarity(text1, text2)\n",
    "        if similarity > 0.6:\n",
    "            similar_paragraphs.append((idx1 + 1, idx2 + 1, similarity))"
   ]
  },
  {
   "cell_type": "code",
   "execution_count": 18,
   "metadata": {},
   "outputs": [
    {
     "name": "stdout",
     "output_type": "stream",
     "text": [
      "\n",
      "Pairs of Similar Paragraphs (similarity > 60%):\n",
      "Paragraph 1 (First Contract) - Paragraph 1 (Second Contract) | Similarity: 0.8733716662631975\n",
      "Paragraph 2 (First Contract) - Paragraph 2 (Second Contract) | Similarity: 1.0000000000000002\n",
      "Paragraph 2 (First Contract) - Paragraph 3 (Second Contract) | Similarity: 0.6000000000000002\n",
      "Paragraph 3 (First Contract) - Paragraph 3 (Second Contract) | Similarity: 0.9192723907499134\n",
      "Paragraph 4 (First Contract) - Paragraph 3 (Second Contract) | Similarity: 0.6934760925288567\n",
      "Paragraph 5 (First Contract) - Paragraph 3 (Second Contract) | Similarity: 0.632455532033676\n",
      "Paragraph 7 (First Contract) - Paragraph 6 (Second Contract) | Similarity: 0.6274950199005568\n",
      "Paragraph 8 (First Contract) - Paragraph 6 (Second Contract) | Similarity: 0.6741998624632424\n",
      "Paragraph 9 (First Contract) - Paragraph 7 (Second Contract) | Similarity: 0.9672041516493521\n",
      "Paragraph 10 (First Contract) - Paragraph 8 (Second Contract) | Similarity: 1.0\n",
      "Paragraph 11 (First Contract) - Paragraph 9 (Second Contract) | Similarity: 1.0\n",
      "Paragraph 13 (First Contract) - Paragraph 12 (Second Contract) | Similarity: 1.0000000000000002\n",
      "Paragraph 14 (First Contract) - Paragraph 13 (Second Contract) | Similarity: 1.0000000000000002\n",
      "Paragraph 17 (First Contract) - Paragraph 16 (Second Contract) | Similarity: 1.0000000000000002\n",
      "Paragraph 18 (First Contract) - Paragraph 17 (Second Contract) | Similarity: 1.0\n"
     ]
    }
   ],
   "source": [
    "# Print pairs of similar paragraphs\n",
    "print(\"\\nPairs of Similar Paragraphs (similarity > 60%):\")\n",
    "for pair in similar_paragraphs:\n",
    "    print(f\"Paragraph {pair[0]} (First Contract) - Paragraph {pair[1]} (Second Contract) | Similarity: {pair[2]}\")"
   ]
  },
  {
   "cell_type": "code",
   "execution_count": null,
   "metadata": {},
   "outputs": [],
   "source": []
  }
 ],
 "metadata": {
  "kernelspec": {
   "display_name": "Python 3",
   "language": "python",
   "name": "python3"
  },
  "language_info": {
   "codemirror_mode": {
    "name": "ipython",
    "version": 3
   },
   "file_extension": ".py",
   "mimetype": "text/x-python",
   "name": "python",
   "nbconvert_exporter": "python",
   "pygments_lexer": "ipython3",
   "version": "3.12.4"
  }
 },
 "nbformat": 4,
 "nbformat_minor": 2
}
